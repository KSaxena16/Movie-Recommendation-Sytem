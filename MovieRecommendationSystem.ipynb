{
  "nbformat": 4,
  "nbformat_minor": 0,
  "metadata": {
    "colab": {
      "name": "MovieRecommendationSystem.ipynb",
      "provenance": [],
      "collapsed_sections": []
    },
    "kernelspec": {
      "name": "python3",
      "display_name": "Python 3"
    }
  },
  "cells": [
    {
      "cell_type": "code",
      "metadata": {
        "id": "UV5mlXxVSG52",
        "colab_type": "code",
        "colab": {}
      },
      "source": [
        "#IMPORTING REQUIRED LIBRARIES\n",
        "import pandas as pd\n",
        "import numpy as np\n",
        "\n",
        "from sklearn.feature_extraction.text import CountVectorizer\n",
        "from sklearn.metrics.pairwise import cosine_similarity"
      ],
      "execution_count": 0,
      "outputs": []
    },
    {
      "cell_type": "code",
      "metadata": {
        "id": "skKuJtNHTd0k",
        "colab_type": "code",
        "outputId": "a1936196-c58c-434b-b2bd-5365b146a660",
        "colab": {
          "base_uri": "https://localhost:8080/",
          "height": 153
        }
      },
      "source": [
        "#Read CSV FILE\n",
        "df = pd.read_csv(\"https://raw.githubusercontent.com/codeheroku/Introduction-to-Machine-Learning/master/Building%20a%20Movie%20Recommendation%20Engine/movie_dataset.csv\")\n",
        "print(df.head(5))"
      ],
      "execution_count": 0,
      "outputs": [
        {
          "output_type": "stream",
          "text": [
            "   index  ...           director\n",
            "0      0  ...      James Cameron\n",
            "1      1  ...     Gore Verbinski\n",
            "2      2  ...         Sam Mendes\n",
            "3      3  ...  Christopher Nolan\n",
            "4      4  ...     Andrew Stanton\n",
            "\n",
            "[5 rows x 24 columns]\n"
          ],
          "name": "stdout"
        }
      ]
    },
    {
      "cell_type": "code",
      "metadata": {
        "id": "WhR7yBsKUuXE",
        "colab_type": "code",
        "colab": {}
      },
      "source": [
        "#SELECT FEATURES\n",
        "features = ['keywords','cast','genres','director']"
      ],
      "execution_count": 0,
      "outputs": []
    },
    {
      "cell_type": "code",
      "metadata": {
        "id": "C1yrZiWbU5Wu",
        "colab_type": "code",
        "outputId": "5594427e-dd96-47e5-96cd-02bfcccc31fa",
        "colab": {
          "base_uri": "https://localhost:8080/",
          "height": 221
        }
      },
      "source": [
        "#CREATE A COLUMN IN DF WHICH COMBINES ALL SELECTED FEATURES\n",
        "df[\"combined_fetures\"] = df[\"keywords\"].astype(str) + \" \" + df[\"cast\"].astype(str) + \" \" + df[\"genres\"].astype(str) + \" \" + df[\"director\"].astype(str)\n",
        "df.fillna(\" \",inplace=True)\n",
        "print(df.combined_fetures)  "
      ],
      "execution_count": 0,
      "outputs": [
        {
          "output_type": "stream",
          "text": [
            "0       culture clash future space war space colony so...\n",
            "1       ocean drug abuse exotic island east india trad...\n",
            "2       spy based on novel secret agent sequel mi6 Dan...\n",
            "3       dc comics crime fighter terrorist secret ident...\n",
            "4       based on novel mars medallion space travel pri...\n",
            "                              ...                        \n",
            "4798    united states\\u2013mexico barrier legs arms pa...\n",
            "4799     Edward Burns Kerry Bish\\u00e9 Marsha Dietlein...\n",
            "4800    date love at first sight narration investigati...\n",
            "4801     Daniel Henney Eliza Coupe Bill Paxton Alan Ru...\n",
            "4802    obsession camcorder crush dream girl Drew Barr...\n",
            "Name: combined_fetures, Length: 4803, dtype: object\n"
          ],
          "name": "stdout"
        }
      ]
    },
    {
      "cell_type": "code",
      "metadata": {
        "id": "8A-fx4aYbqzo",
        "colab_type": "code",
        "outputId": "9c564149-4eca-4782-dc8b-9543b4b59169",
        "colab": {
          "base_uri": "https://localhost:8080/",
          "height": 136
        }
      },
      "source": [
        "#CREAT A COUNT MATRIX FROM THIS NEW COMBINED COLUMN\n",
        "cv = CountVectorizer()\n",
        "count_matrix = cv.fit_transform(df.combined_fetures)"
      ],
      "execution_count": 0,
      "outputs": [
        {
          "output_type": "stream",
          "text": [
            "[[0 0 0 ... 0 0 0]\n",
            " [0 0 0 ... 0 0 0]\n",
            " [0 0 0 ... 0 0 0]\n",
            " ...\n",
            " [0 0 0 ... 0 0 0]\n",
            " [0 0 0 ... 0 0 0]\n",
            " [0 0 0 ... 0 0 0]]\n"
          ],
          "name": "stdout"
        }
      ]
    },
    {
      "cell_type": "code",
      "metadata": {
        "id": "YivRkpcbfP8t",
        "colab_type": "code",
        "colab": {}
      },
      "source": [
        "#COMPUTE THE COSINE SIMILARITY BASED ON THE count_matrix\n",
        "similarity = cosine_similarity(count_matrix)\n",
        "\n",
        "movie_users_like = \"Avatar\""
      ],
      "execution_count": 0,
      "outputs": []
    },
    {
      "cell_type": "code",
      "metadata": {
        "id": "caqO5dVAgJLq",
        "colab_type": "code",
        "colab": {}
      },
      "source": [
        "#GET INDEX OF THIS MOVIE FROM IT'S TITLE\n",
        "# title = \"Avatar\"\n",
        "# df[df[\"title\"] == title][\"index\"].values[0]\n",
        "def get_title_from_index(title):\n",
        "\treturn df[df[\"title\"] == title][\"index\"].values[0]\n",
        "# def get_index_from_title(title):\n",
        "#     try:\n",
        "#         return df[df.title == title][\"index\"].values[0]\n",
        "#     except IndexError:\n",
        "#         return None\n",
        "movie_index = get_title_from_index(\"Avatar\")"
      ],
      "execution_count": 0,
      "outputs": []
    },
    {
      "cell_type": "code",
      "metadata": {
        "id": "nNnSfiUylh_a",
        "colab_type": "code",
        "colab": {}
      },
      "source": [
        "#GET A LIST OF SIMILAR MOVIES IN DESCENDING ORDER OF SIMILARITY SCORE\n",
        "similar_movies = list(enumerate(similarity[movie_index]))\n",
        "similar_sorted_movies = sorted(similar_movies, key=lambda x:x[1], reverse=True)"
      ],
      "execution_count": 0,
      "outputs": []
    },
    {
      "cell_type": "code",
      "metadata": {
        "id": "owykxTb8mjv2",
        "colab_type": "code",
        "outputId": "e896d274-7994-4982-9278-8b5583d87a0d",
        "colab": {
          "base_uri": "https://localhost:8080/",
          "height": 884
        }
      },
      "source": [
        "#PRINT TITLES OF FIRST 50 MOVIES\n",
        "def get_index_from_title(index):\n",
        "\treturn df[df[\"index\"] == index][\"title\"].values[0]\n",
        "\n",
        "i = 0\n",
        "for element in similar_sorted_movies:\n",
        "  print(get_index_from_title(element[0]))\n",
        "  i = i+1\n",
        "  if i>50:\n",
        "      break"
      ],
      "execution_count": 0,
      "outputs": [
        {
          "output_type": "stream",
          "text": [
            "Avatar\n",
            "Guardians of the Galaxy\n",
            "Aliens\n",
            "Star Wars: Clone Wars: Volume 1\n",
            "Star Trek Into Darkness\n",
            "Star Trek Beyond\n",
            "Alien\n",
            "Lockout\n",
            "Jason X\n",
            "The Helix... Loaded\n",
            "Moonraker\n",
            "Planet of the Apes\n",
            "Galaxy Quest\n",
            "Gravity\n",
            "Alien³\n",
            "Jupiter Ascending\n",
            "The Wolverine\n",
            "Silent Running\n",
            "Zathura: A Space Adventure\n",
            "Trekkies\n",
            "Cargo\n",
            "Wing Commander\n",
            "Star Trek\n",
            "Lost in Space\n",
            "Babylon A.D.\n",
            "The Fifth Element\n",
            "Oblivion\n",
            "Titan A.E.\n",
            "AVP: Alien vs. Predator\n",
            "The Empire Strikes Back\n",
            "Dragonball Evolution\n",
            "Superman Returns\n",
            "Divergent\n",
            "John Carter\n",
            "The Black Hole\n",
            "The Ice Pirates\n",
            "Memoirs of an Invisible Man\n",
            "Starship Troopers\n",
            "The Astronaut's Wife\n",
            "Machete Kills\n",
            "Soldier\n",
            "The Abyss\n",
            "Damnation Alley\n",
            "Men in Black\n",
            "Space Cowboys\n",
            "Space Dogs\n",
            "The Time Machine\n",
            "Sheena\n",
            "Captain America: Civil War\n",
            "Star Trek: Insurrection\n",
            "Oz: The Great and Powerful\n"
          ],
          "name": "stdout"
        }
      ]
    },
    {
      "cell_type": "code",
      "metadata": {
        "id": "Q8WVK9K52vLd",
        "colab_type": "code",
        "colab": {}
      },
      "source": [
        ""
      ],
      "execution_count": 0,
      "outputs": []
    }
  ]
}